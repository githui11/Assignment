{
 "cells": [
  {
   "cell_type": "markdown",
   "id": "7fe6bdbc",
   "metadata": {},
   "source": [
    "# Assignment\n"
   ]
  },
  {
   "cell_type": "markdown",
   "id": "2ea8d857",
   "metadata": {},
   "source": [
    "## Introduction\n",
    "This notebook is created to demonstrate various exercises related to Jupyter Notebook "
   ]
  },
  {
   "cell_type": "markdown",
   "id": "5bec9b27",
   "metadata": {},
   "source": [
    "## Data Science Languages \n",
    "- Python \n",
    "- R\n",
    "- Julia \n",
    "- SQL\n",
    "- Scala\n",
    "- Java \n",
    "- MATLAB\n",
    "- SAS\n"
   ]
  },
  {
   "cell_type": "markdown",
   "id": "b9d0e0af",
   "metadata": {},
   "source": [
    "## Data Science Libraries \n",
    "- NumPy\n",
    "- Pandas \n",
    "- Matplotlib\n",
    "- TensorFlow\n",
    "- PyTorch\n",
    "- scikit-learn\n",
    "- Keras \n",
    "- Seaborn\n",
    "- StatsModels\n",
    "- NLTK "
   ]
  },
  {
   "cell_type": "markdown",
   "id": "79345177",
   "metadata": {},
   "source": [
    "## Data Science Tools\n",
    "\n",
    "| Tool           | Description                                 |\n",
    "|----------------|---------------------------------------------|\n",
    "| Jupyter Notebook | Interactive notebook environment for data science|\n",
    "| Anaconda       | Data science platform and package manager   |\n",
    "| Spark          | Distributed computing framework             |\n",
    "| Hadoop         | Distributed storage and processing framework|\n",
    "| Tableau        | Data visualization software                 |\n",
    "| Docker         | Containerization platform                   |\n",
    " "
   ]
  },
  {
   "cell_type": "markdown",
   "id": "e2d87a48",
   "metadata": {},
   "source": [
    "## Arithmetic Expression Examples\n",
    "\n",
    "In the following exercises, we will explore various arithmetic operations using Python\n"
   ]
  },
  {
   "cell_type": "code",
   "execution_count": 1,
   "id": "1a3d001a",
   "metadata": {},
   "outputs": [
    {
     "name": "stdout",
     "output_type": "stream",
     "text": [
      "Multiplication Result: 50\n",
      "Addition Result: 15\n"
     ]
    }
   ],
   "source": [
    "# Multiplication\n",
    "result_multiply = 5 * 10\n",
    "\n",
    "# Addition\n",
    "result_addition = 5 + 10\n",
    "\n",
    "print(\"Multiplication Result:\", result_multiply)\n",
    "print(\"Addition Result:\", result_addition)\n"
   ]
  },
  {
   "cell_type": "code",
   "execution_count": 2,
   "id": "163e6993",
   "metadata": {},
   "outputs": [
    {
     "name": "stdout",
     "output_type": "stream",
     "text": [
      "Hours: 2.0\n"
     ]
    }
   ],
   "source": [
    "# Convert minutes to hours\n",
    "minutes = 120\n",
    "hours = minutes / 60\n",
    "\n",
    "print(\"Hours:\", hours)\n"
   ]
  },
  {
   "cell_type": "markdown",
   "id": "6837ee99",
   "metadata": {},
   "source": [
    "## Objectives\n",
    "\n",
    "1. Learn Markdown formatting in Jupyter Notebook.\n",
    "2. Practice basic arithmetic operations.\n",
    "3. Explore data science languages, libraries, and tools.\n",
    "4. Share the notebook via GitHub.\n"
   ]
  },
  {
   "cell_type": "markdown",
   "id": "9baa5bef",
   "metadata": {},
   "source": [
    "## Author\n",
    "\n",
    "Githui Maina\n"
   ]
  }
 ],
 "metadata": {
  "kernelspec": {
   "display_name": "Python 3 (ipykernel)",
   "language": "python",
   "name": "python3"
  },
  "language_info": {
   "codemirror_mode": {
    "name": "ipython",
    "version": 3
   },
   "file_extension": ".py",
   "mimetype": "text/x-python",
   "name": "python",
   "nbconvert_exporter": "python",
   "pygments_lexer": "ipython3",
   "version": "3.11.5"
  }
 },
 "nbformat": 4,
 "nbformat_minor": 5
}
